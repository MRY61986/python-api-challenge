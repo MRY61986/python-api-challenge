


# Dependencies and Setup
import hvplot.pandas
import pandas as pd
import requests

# Import API key
from api_keys import geoapify_key


# Load the CSV file created in Part 1 into a Pandas DataFrame
city_data_df = pd.read_csv("output_data/cities.csv")

# Display sample data
city_data_df.head()





%%capture --no-display

# Configure the map plot
map_plot = city_data_df.hvplot.points(
   'Lng', 
    'Lat',                            
    geo=True,                                
    tiles='OSM',                             
    size='Humidity',                         
    color='City',                           
    legend='right',                          
    frame_width=800,                         
    frame_height=500,                        
    fill_alpha=0.4,                          
    title='City Locations with Humidity Represented by Point Size',
    xlabel='x',                     
    ylabel='y',

)



# Display the map
map_plot





# Narrow down cities that fit criteria and drop any results with null values
ideal_cities_df = city_data_df[
    (city_data_df['Max Temp'] >= 20) & (city_data_df['Max Temp'] <= 30) &  
    (city_data_df['Humidity'] < 60) &                                      
    (city_data_df['Cloudiness'] < 20)                                      
]

# Drop any rows with null values
ideal_cities_df = ideal_cities_df.dropna()

# Display sample data
ideal_cities_df.head(20)  





# Use the Pandas copy function to create DataFrame called hotel_df to store the city, country, coordinates, and humidity
hotel_df = ideal_cities_df[['City', 'Country', 'Lat', 'Lng', 'Humidity']].copy()

# Add an empty column, "Hotel Name," to the DataFrame so you can store the hotel found using the Geoapify API
hotel_df['Hotel Name'] = ""

# Display sample data
hotel_df.head(20) 





# Set parameters to search for a hotel
radius = 10000 
params = {
    "categories": "accommodation.hotel", 
    "limit": 1,                           
    "apiKey": geoapify_key                
}

# Print a message to follow up the hotel search
print("Starting hotel search")

# Iterate through the hotel_df DataFrame
for index, row in hotel_df.iterrows():
    # get latitude, longitude from the DataFrame
    lat, lon = row['Lat'], row['Lng']

    # Add the current city's latitude and longitude to the params dictionary
    params["filter"] = f"circle:{lon},{lat},{radius}"
    params["bias"] = f"proximity:{lon},{lat}"

    # Set base URL
    base_url = "https://api.geoapify.com/v2/places"

    # Make and API request using the params dictionary
    response = requests.get(base_url, params=params)

    # Convert the API response to JSON format
    name_address = response.json()

    # Grab the first hotel from the results and store the name in the hotel_df DataFrame
    try:
        hotel_df.loc[index, "Hotel Name"] = name_address["features"][0]["properties"]["name"]
    except (KeyError, IndexError):
        # If no hotel is found, set the hotel name as "No hotel found".
        hotel_df.loc[index, "Hotel Name"] = "No hotel found"

    # Log the search results
    print(f"{hotel_df.loc[index, 'City']} - nearest hotel: {hotel_df.loc[index, 'Hotel Name']}")

# Display sample data

hotel_df





%%capture --no-display



# Configure the map plot with hover information formatted to match the example
map_plot = hotel_df.hvplot.points(
    'Lng', 
    'Lat',                            
    geo=True,                               
    tiles='OSM',                             
    size='Humidity',                        
    color='City',                            
    legend='right',                          
    frame_width=800,                         
    frame_height=500,                      
    fill_alpha=0.4,
    xlabel='x',                     
    ylabel='y',
    hover_cols=["Hotel Name", "Country"]
    
)


# Display the map

map_plot




